{
 "cells": [
  {
   "cell_type": "markdown",
   "metadata": {},
   "source": [
    "# Overview\n",
    "\n",
    "This notebook is used to demonstrate how to generate the configuration file in an interactive environment."
   ]
  },
  {
   "cell_type": "code",
   "execution_count": 1,
   "metadata": {},
   "outputs": [],
   "source": [
    "import numpy as np\n",
    "import pandas as pd\n",
    "from IPython.display import JSON\n",
    "from neutronimaging.preprocess import generate_config_CG1D"
   ]
  },
  {
   "cell_type": "markdown",
   "metadata": {},
   "source": [
    "## Single direcotry input"
   ]
  },
  {
   "cell_type": "code",
   "execution_count": 2,
   "metadata": {},
   "outputs": [],
   "source": [
    "imgdir = '../data/IPTS-20267/raw/radiographs/'\n",
    "obdir = '../data/IPTS-20267/raw/ob/'\n",
    "dfdir = '../data/IPTS-20267/raw/df'\n",
    "cfg_dict = generate_config_CG1D(imgdir, obdir, dfdir)"
   ]
  },
  {
   "cell_type": "code",
   "execution_count": 3,
   "metadata": {},
   "outputs": [
    {
     "data": {
      "application/json": {
       "10.0": {
        "config0": {
         "first_images": {
          "df": {},
          "ob": {},
          "sample": {
           "filename": "../data/IPTS-20267/raw/radiographs/Jan07_2020_sam1_lightOff/20200107_Dummy_0010_0312.tiff",
           "time_stamp": 1578444066.22215,
           "time_stamp_user_format": "2020-01-07 19:41:06"
          }
         },
         "last_images": {
          "df": {},
          "ob": {},
          "sample": {
           "filename": "../data/IPTS-20267/raw/radiographs/Jan07_2020_sam1_lightOff/20200107_Dummy_0010_0312.tiff",
           "time_stamp": 1578444066.22215,
           "time_stamp_user_format": "2020-01-07 19:41:06"
          }
         },
         "list_df": [],
         "list_ob": [],
         "list_sample": [
          {
           "filename": "../data/IPTS-20267/raw/radiographs/Jan07_2020_sam1_lightOff/20200107_Dummy_0010_0312.tiff",
           "time_stamp": 1578444066.22215,
           "time_stamp_user_format": "2020-01-07 19:41:06"
          }
         ],
         "metadata_infos": {
          "aperture_HL": 40,
          "aperture_HR": 40,
          "aperture_VB": 40,
          "aperture_VT": 40,
          "detector_manufacturer": "Andor"
         },
         "time_range_s": {
          "after": 1578444066.22215,
          "before": 1578444066.22215
         }
        }
       },
       "15.0": {
        "config0": {
         "first_images": {
          "df": {
           "filename": "../data/IPTS-20267/raw/df/September20_2018/20180920_DF_0015_0962.tiff",
           "time_stamp": 1537454784.5146527,
           "time_stamp_user_format": "2018-09-20 10:46:24"
          },
          "ob": {
           "filename": "../data/IPTS-20267/raw/ob/9-19-/20180919_OB_0015_2133.tiff",
           "time_stamp": 1537400292.73753,
           "time_stamp_user_format": "2018-09-19 19:38:12"
          },
          "sample": {
           "filename": "../data/IPTS-20267/raw/radiographs/9-19-/20180919_aT_bkg__0015_2069.tiff",
           "time_stamp": 1537397121.6504395,
           "time_stamp_user_format": "2018-09-19 18:45:21"
          }
         },
         "last_images": {
          "df": {
           "filename": "../data/IPTS-20267/raw/df/September20_2018/20180920_DF_0015_0962.tiff",
           "time_stamp": 1537454784.5146527,
           "time_stamp_user_format": "2018-09-20 10:46:24"
          },
          "ob": {
           "filename": "../data/IPTS-20267/raw/ob/9-19-/20180919_OB_0015_2133.tiff",
           "time_stamp": 1537400292.73753,
           "time_stamp_user_format": "2018-09-19 19:38:12"
          },
          "sample": {
           "filename": "../data/IPTS-20267/raw/radiographs/9-19-/20180919_aT_bkg__0015_2069.tiff",
           "time_stamp": 1537397121.6504395,
           "time_stamp_user_format": "2018-09-19 18:45:21"
          }
         },
         "list_df": [
          {
           "filename": "../data/IPTS-20267/raw/df/September20_2018/20180920_DF_0015_0962.tiff",
           "time_stamp": 1537454784.5146527,
           "time_stamp_user_format": "2018-09-20 10:46:24"
          }
         ],
         "list_ob": [
          {
           "filename": "../data/IPTS-20267/raw/ob/9-19-/20180919_OB_0015_2133.tiff",
           "time_stamp": 1537400292.73753,
           "time_stamp_user_format": "2018-09-19 19:38:12"
          }
         ],
         "list_sample": [
          {
           "filename": "../data/IPTS-20267/raw/radiographs/9-19-/20180919_aT_bkg__0015_2069.tiff",
           "time_stamp": 1537397121.6504395,
           "time_stamp_user_format": "2018-09-19 18:45:21"
          }
         ],
         "metadata_infos": {
          "aperture_HL": 40,
          "aperture_HR": 40,
          "aperture_VB": 40,
          "aperture_VT": 40,
          "detector_manufacturer": "Andor"
         },
         "time_range_s": {
          "after": 0,
          "before": 0
         }
        }
       },
       "30.0": {
        "config0": {
         "first_images": {
          "df": {
           "filename": "../data/IPTS-20267/raw/df/Jan09_2020_sam3_Cineole_LightOn/20200109_DF_0030_2054.tiff",
           "time_stamp": 1578607855.7686522,
           "time_stamp_user_format": "2020-01-09 17:10:55"
          },
          "ob": {
           "filename": "../data/IPTS-20267/raw/ob/Jan08_2020_sam3_lightOff/20200108_OB_0030_1177.tiff",
           "time_stamp": 1578511633.0590043,
           "time_stamp_user_format": "2020-01-08 14:27:13"
          },
          "sample": {
           "filename": "../data/IPTS-20267/raw/radiographs/Jan07_2020_sam1_lightOff/20200107_sam1_D2O_LightOff_0030_0313.tiff",
           "time_stamp": 1578444252.1587958,
           "time_stamp_user_format": "2020-01-07 19:44:12"
          }
         },
         "last_images": {
          "df": {
           "filename": "../data/IPTS-20267/raw/df/Jan09_2020_sam3_Cineole_LightOn/20200109_DF_0030_2054.tiff",
           "time_stamp": 1578607855.7686522,
           "time_stamp_user_format": "2020-01-09 17:10:55"
          },
          "ob": {
           "filename": "../data/IPTS-20267/raw/ob/Jan08_2020_sam3_lightOff/20200108_OB_0030_1177.tiff",
           "time_stamp": 1578511633.0590043,
           "time_stamp_user_format": "2020-01-08 14:27:13"
          },
          "sample": {
           "filename": "../data/IPTS-20267/raw/radiographs/Jan07_2020_sam1_lightOff/20200107_sam1_D2O_LightOff_0030_0313.tiff",
           "time_stamp": 1578444252.1587958,
           "time_stamp_user_format": "2020-01-07 19:44:12"
          }
         },
         "list_df": [
          {
           "filename": "../data/IPTS-20267/raw/df/Jan09_2020_sam3_Cineole_LightOn/20200109_DF_0030_2054.tiff",
           "time_stamp": 1578607855.7686522,
           "time_stamp_user_format": "2020-01-09 17:10:55"
          }
         ],
         "list_ob": [
          {
           "filename": "../data/IPTS-20267/raw/ob/Jan08_2020_sam3_lightOff/20200108_OB_0030_1177.tiff",
           "time_stamp": 1578511633.0590043,
           "time_stamp_user_format": "2020-01-08 14:27:13"
          }
         ],
         "list_sample": [
          {
           "filename": "../data/IPTS-20267/raw/radiographs/Jan07_2020_sam1_lightOff/20200107_sam1_D2O_LightOff_0030_0313.tiff",
           "time_stamp": 1578444252.1587958,
           "time_stamp_user_format": "2020-01-07 19:44:12"
          }
         ],
         "metadata_infos": {
          "aperture_HL": 40,
          "aperture_HR": 40,
          "aperture_VB": 40,
          "aperture_VT": 40,
          "detector_manufacturer": "Andor"
         },
         "time_range_s": {
          "after": 0,
          "before": 0
         }
        }
       }
      },
      "text/plain": [
       "<IPython.core.display.JSON object>"
      ]
     },
     "execution_count": 3,
     "metadata": {},
     "output_type": "execute_result"
    }
   ],
   "source": [
    "JSON(cfg_dict)"
   ]
  },
  {
   "cell_type": "markdown",
   "metadata": {},
   "source": [
    "## Multiple dicreotries"
   ]
  },
  {
   "cell_type": "code",
   "execution_count": 4,
   "metadata": {},
   "outputs": [],
   "source": [
    "imgdir_list = ['../data/IPTS-20267/raw/radiographs/9-19-/', '../data/IPTS-20267/raw/radiographs/Jan07_2020_sam1_lightOff/']\n",
    "obdir = '../data/IPTS-20267/raw/ob/'\n",
    "dfdir = '../data/IPTS-20267/raw/df'\n",
    "\n",
    "cfg_dict_multi = generate_config_CG1D(imgdir_list, obdir, dfdir)"
   ]
  },
  {
   "cell_type": "code",
   "execution_count": 5,
   "metadata": {},
   "outputs": [
    {
     "data": {
      "application/json": {
       "../data/IPTS-20267/raw/radiographs/9-19-/": {
        "15.0": {
         "config0": {
          "first_images": {
           "df": {
            "filename": "../data/IPTS-20267/raw/df/September20_2018/20180920_DF_0015_0962.tiff",
            "time_stamp": 1537454784.5146527,
            "time_stamp_user_format": "2018-09-20 10:46:24"
           },
           "ob": {
            "filename": "../data/IPTS-20267/raw/ob/9-19-/20180919_OB_0015_2133.tiff",
            "time_stamp": 1537400292.73753,
            "time_stamp_user_format": "2018-09-19 19:38:12"
           },
           "sample": {
            "filename": "../data/IPTS-20267/raw/radiographs/9-19-/20180919_aT_bkg__0015_2069.tiff",
            "time_stamp": 1537397121.6504395,
            "time_stamp_user_format": "2018-09-19 18:45:21"
           }
          },
          "last_images": {
           "df": {
            "filename": "../data/IPTS-20267/raw/df/September20_2018/20180920_DF_0015_0962.tiff",
            "time_stamp": 1537454784.5146527,
            "time_stamp_user_format": "2018-09-20 10:46:24"
           },
           "ob": {
            "filename": "../data/IPTS-20267/raw/ob/9-19-/20180919_OB_0015_2133.tiff",
            "time_stamp": 1537400292.73753,
            "time_stamp_user_format": "2018-09-19 19:38:12"
           },
           "sample": {
            "filename": "../data/IPTS-20267/raw/radiographs/9-19-/20180919_aT_bkg__0015_2069.tiff",
            "time_stamp": 1537397121.6504395,
            "time_stamp_user_format": "2018-09-19 18:45:21"
           }
          },
          "list_df": [
           {
            "filename": "../data/IPTS-20267/raw/df/September20_2018/20180920_DF_0015_0962.tiff",
            "time_stamp": 1537454784.5146527,
            "time_stamp_user_format": "2018-09-20 10:46:24"
           }
          ],
          "list_ob": [
           {
            "filename": "../data/IPTS-20267/raw/ob/9-19-/20180919_OB_0015_2133.tiff",
            "time_stamp": 1537400292.73753,
            "time_stamp_user_format": "2018-09-19 19:38:12"
           }
          ],
          "list_sample": [
           {
            "filename": "../data/IPTS-20267/raw/radiographs/9-19-/20180919_aT_bkg__0015_2069.tiff",
            "time_stamp": 1537397121.6504395,
            "time_stamp_user_format": "2018-09-19 18:45:21"
           }
          ],
          "metadata_infos": {
           "aperture_HL": 40,
           "aperture_HR": 40,
           "aperture_VB": 40,
           "aperture_VT": 40,
           "detector_manufacturer": "Andor"
          },
          "time_range_s": {
           "after": 0,
           "before": 0
          }
         }
        },
        "30.0": {
         "config0": {
          "first_images": {
           "df": {
            "filename": "../data/IPTS-20267/raw/df/Jan09_2020_sam3_Cineole_LightOn/20200109_DF_0030_2054.tiff",
            "time_stamp": 1578607855.7686522,
            "time_stamp_user_format": "2020-01-09 17:10:55"
           },
           "ob": {
            "filename": "../data/IPTS-20267/raw/ob/Jan08_2020_sam3_lightOff/20200108_OB_0030_1177.tiff",
            "time_stamp": 1578511633.0590043,
            "time_stamp_user_format": "2020-01-08 14:27:13"
           },
           "sample": {}
          },
          "last_images": {
           "df": {
            "filename": "../data/IPTS-20267/raw/df/Jan09_2020_sam3_Cineole_LightOn/20200109_DF_0030_2054.tiff",
            "time_stamp": 1578607855.7686522,
            "time_stamp_user_format": "2020-01-09 17:10:55"
           },
           "ob": {
            "filename": "../data/IPTS-20267/raw/ob/Jan08_2020_sam3_lightOff/20200108_OB_0030_1177.tiff",
            "time_stamp": 1578511633.0590043,
            "time_stamp_user_format": "2020-01-08 14:27:13"
           },
           "sample": {}
          },
          "list_df": [
           {
            "filename": "../data/IPTS-20267/raw/df/Jan09_2020_sam3_Cineole_LightOn/20200109_DF_0030_2054.tiff",
            "time_stamp": 1578607855.7686522,
            "time_stamp_user_format": "2020-01-09 17:10:55"
           }
          ],
          "list_ob": [
           {
            "filename": "../data/IPTS-20267/raw/ob/Jan08_2020_sam3_lightOff/20200108_OB_0030_1177.tiff",
            "time_stamp": 1578511633.0590043,
            "time_stamp_user_format": "2020-01-08 14:27:13"
           }
          ],
          "list_sample": [],
          "metadata_infos": {
           "aperture_HL": 40,
           "aperture_HR": 40,
           "aperture_VB": 40,
           "aperture_VT": 40,
           "detector_manufacturer": "Andor"
          },
          "time_range_s": {
           "after": 0,
           "before": 0
          }
         }
        }
       },
       "../data/IPTS-20267/raw/radiographs/Jan07_2020_sam1_lightOff/": {
        "10.0": {
         "config0": {
          "first_images": {
           "df": {},
           "ob": {},
           "sample": {
            "filename": "../data/IPTS-20267/raw/radiographs/Jan07_2020_sam1_lightOff/20200107_Dummy_0010_0312.tiff",
            "time_stamp": 1578444066.22215,
            "time_stamp_user_format": "2020-01-07 19:41:06"
           }
          },
          "last_images": {
           "df": {},
           "ob": {},
           "sample": {
            "filename": "../data/IPTS-20267/raw/radiographs/Jan07_2020_sam1_lightOff/20200107_Dummy_0010_0312.tiff",
            "time_stamp": 1578444066.22215,
            "time_stamp_user_format": "2020-01-07 19:41:06"
           }
          },
          "list_df": [],
          "list_ob": [],
          "list_sample": [
           {
            "filename": "../data/IPTS-20267/raw/radiographs/Jan07_2020_sam1_lightOff/20200107_Dummy_0010_0312.tiff",
            "time_stamp": 1578444066.22215,
            "time_stamp_user_format": "2020-01-07 19:41:06"
           }
          ],
          "metadata_infos": {
           "aperture_HL": 40,
           "aperture_HR": 40,
           "aperture_VB": 40,
           "aperture_VT": 40,
           "detector_manufacturer": "Andor"
          },
          "time_range_s": {
           "after": 1578444066.22215,
           "before": 1578444066.22215
          }
         }
        },
        "15.0": {
         "config0": {
          "first_images": {
           "df": {
            "filename": "../data/IPTS-20267/raw/df/September20_2018/20180920_DF_0015_0962.tiff",
            "time_stamp": 1537454784.5146527,
            "time_stamp_user_format": "2018-09-20 10:46:24"
           },
           "ob": {
            "filename": "../data/IPTS-20267/raw/ob/9-19-/20180919_OB_0015_2133.tiff",
            "time_stamp": 1537400292.73753,
            "time_stamp_user_format": "2018-09-19 19:38:12"
           },
           "sample": {}
          },
          "last_images": {
           "df": {
            "filename": "../data/IPTS-20267/raw/df/September20_2018/20180920_DF_0015_0962.tiff",
            "time_stamp": 1537454784.5146527,
            "time_stamp_user_format": "2018-09-20 10:46:24"
           },
           "ob": {
            "filename": "../data/IPTS-20267/raw/ob/9-19-/20180919_OB_0015_2133.tiff",
            "time_stamp": 1537400292.73753,
            "time_stamp_user_format": "2018-09-19 19:38:12"
           },
           "sample": {}
          },
          "list_df": [
           {
            "filename": "../data/IPTS-20267/raw/df/September20_2018/20180920_DF_0015_0962.tiff",
            "time_stamp": 1537454784.5146527,
            "time_stamp_user_format": "2018-09-20 10:46:24"
           }
          ],
          "list_ob": [
           {
            "filename": "../data/IPTS-20267/raw/ob/9-19-/20180919_OB_0015_2133.tiff",
            "time_stamp": 1537400292.73753,
            "time_stamp_user_format": "2018-09-19 19:38:12"
           }
          ],
          "list_sample": [],
          "metadata_infos": {
           "aperture_HL": 40,
           "aperture_HR": 40,
           "aperture_VB": 40,
           "aperture_VT": 40,
           "detector_manufacturer": "Andor"
          },
          "time_range_s": {
           "after": 0,
           "before": 0
          }
         }
        },
        "30.0": {
         "config0": {
          "first_images": {
           "df": {
            "filename": "../data/IPTS-20267/raw/df/Jan09_2020_sam3_Cineole_LightOn/20200109_DF_0030_2054.tiff",
            "time_stamp": 1578607855.7686522,
            "time_stamp_user_format": "2020-01-09 17:10:55"
           },
           "ob": {
            "filename": "../data/IPTS-20267/raw/ob/Jan08_2020_sam3_lightOff/20200108_OB_0030_1177.tiff",
            "time_stamp": 1578511633.0590043,
            "time_stamp_user_format": "2020-01-08 14:27:13"
           },
           "sample": {
            "filename": "../data/IPTS-20267/raw/radiographs/Jan07_2020_sam1_lightOff/20200107_sam1_D2O_LightOff_0030_0313.tiff",
            "time_stamp": 1578444252.1587958,
            "time_stamp_user_format": "2020-01-07 19:44:12"
           }
          },
          "last_images": {
           "df": {
            "filename": "../data/IPTS-20267/raw/df/Jan09_2020_sam3_Cineole_LightOn/20200109_DF_0030_2054.tiff",
            "time_stamp": 1578607855.7686522,
            "time_stamp_user_format": "2020-01-09 17:10:55"
           },
           "ob": {
            "filename": "../data/IPTS-20267/raw/ob/Jan08_2020_sam3_lightOff/20200108_OB_0030_1177.tiff",
            "time_stamp": 1578511633.0590043,
            "time_stamp_user_format": "2020-01-08 14:27:13"
           },
           "sample": {
            "filename": "../data/IPTS-20267/raw/radiographs/Jan07_2020_sam1_lightOff/20200107_sam1_D2O_LightOff_0030_0313.tiff",
            "time_stamp": 1578444252.1587958,
            "time_stamp_user_format": "2020-01-07 19:44:12"
           }
          },
          "list_df": [
           {
            "filename": "../data/IPTS-20267/raw/df/Jan09_2020_sam3_Cineole_LightOn/20200109_DF_0030_2054.tiff",
            "time_stamp": 1578607855.7686522,
            "time_stamp_user_format": "2020-01-09 17:10:55"
           }
          ],
          "list_ob": [
           {
            "filename": "../data/IPTS-20267/raw/ob/Jan08_2020_sam3_lightOff/20200108_OB_0030_1177.tiff",
            "time_stamp": 1578511633.0590043,
            "time_stamp_user_format": "2020-01-08 14:27:13"
           }
          ],
          "list_sample": [
           {
            "filename": "../data/IPTS-20267/raw/radiographs/Jan07_2020_sam1_lightOff/20200107_sam1_D2O_LightOff_0030_0313.tiff",
            "time_stamp": 1578444252.1587958,
            "time_stamp_user_format": "2020-01-07 19:44:12"
           }
          ],
          "metadata_infos": {
           "aperture_HL": 40,
           "aperture_HR": 40,
           "aperture_VB": 40,
           "aperture_VT": 40,
           "detector_manufacturer": "Andor"
          },
          "time_range_s": {
           "after": 0,
           "before": 0
          }
         }
        }
       }
      },
      "text/plain": [
       "<IPython.core.display.JSON object>"
      ]
     },
     "execution_count": 5,
     "metadata": {},
     "output_type": "execute_result"
    }
   ],
   "source": [
    "JSON(cfg_dict_multi)"
   ]
  },
  {
   "cell_type": "code",
   "execution_count": null,
   "metadata": {},
   "outputs": [],
   "source": []
  }
 ],
 "metadata": {
  "kernelspec": {
   "display_name": "Python 3",
   "language": "python",
   "name": "python3"
  },
  "language_info": {
   "codemirror_mode": {
    "name": "ipython",
    "version": 3
   },
   "file_extension": ".py",
   "mimetype": "text/x-python",
   "name": "python",
   "nbconvert_exporter": "python",
   "pygments_lexer": "ipython3",
   "version": "3.7.8"
  }
 },
 "nbformat": 4,
 "nbformat_minor": 4
}
